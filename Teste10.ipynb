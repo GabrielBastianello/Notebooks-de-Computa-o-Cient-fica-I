{
 "cells": [
  {
   "cell_type": "markdown",
   "metadata": {},
   "source": [
    "![CC-BY-SA](https://mirrors.creativecommons.org/presskit/buttons/88x31/svg/by-sa.svg)\n",
    "\n",
    "\n",
    "This notebook was created by [Bernardo Freitas Paulo da Costa](http://www.im.ufrj.br/bernardofpc),\n",
    "and is licensed under Creative Commons BY-SA."
   ]
  },
  {
   "cell_type": "markdown",
   "metadata": {},
   "source": [
    "Antes de enviar este Teste, verifique que tudo está funcionando como esperado.\n",
    "Por exemplo, **rode o código inteiro, do zero**.\n",
    "Para isso, vá no menu, escolha _Kernel_, depois _Restart & Run All_.\n",
    "\n",
    "Verifique, também, que você respondeu todas as questões:\n",
    "* as questões de código têm `YOUR CODE HERE` (e você pode apagar o `raise NotImplemented` ao incluir sua resposta)\n",
    "* as questões discursivas têm \"YOUR ANSWER HERE\"."
   ]
  },
  {
   "cell_type": "markdown",
   "metadata": {},
   "source": [
    "---"
   ]
  },
  {
   "cell_type": "code",
   "execution_count": 1,
   "metadata": {
    "deletable": false,
    "editable": false,
    "nbgrader": {
     "cell_type": "code",
     "checksum": "bf7c09313bea879e38dc879f2732c044",
     "grade": false,
     "grade_id": "cell-a6bbe291d9334a49",
     "locked": true,
     "schema_version": 3,
     "solution": false,
     "task": false
    }
   },
   "outputs": [],
   "source": [
    "import numpy as np\n",
    "import matplotlib.pyplot as plt\n",
    "\n",
    "from numpy.linalg import norm"
   ]
  },
  {
   "cell_type": "markdown",
   "metadata": {},
   "source": [
    "# Parte 1: Iteração de Rayleigh\n",
    "\n",
    "Vimos que podemos iterar um vetor $v$ pela matriz $A$, obtendo a sequência de vetores $A^nv$, por multiplicações sucessivas, e que isso permite encontrar um autovetor."
   ]
  },
  {
   "cell_type": "markdown",
   "metadata": {},
   "source": [
    "## Questão 1\n",
    "\n",
    "Implemente uma função `itera(A,v,tol,maxiter)` que itera o vetor $v$, normalizando a cada iteração.\n",
    "\n",
    "O método para quando o relativo entre $Av_k$ e $\\lambda_k v_k$ for menor do que `tol`,\n",
    "ou após realizar `maxiter` iterações.\n",
    "\n",
    "A função retorna `(vs, ls)`, respectivamente:\n",
    "- as estimativas do autovetor (com norma 1);\n",
    "- as estimativas correspondentes para o autovalor."
   ]
  },
  {
   "cell_type": "code",
   "execution_count": 2,
   "metadata": {
    "deletable": false,
    "nbgrader": {
     "cell_type": "code",
     "checksum": "1435c4398daab302a2c0c4faefd57a7c",
     "grade": false,
     "grade_id": "cell-257384f421cba661",
     "locked": false,
     "schema_version": 3,
     "solution": true
    }
   },
   "outputs": [],
   "source": [
    "# v_k é o candidado a autovetor e l_k, candidato a autovalor\n",
    "# eu não incluo o vetor inicial v na lista de estimativas\n",
    "\n",
    "def itera(A, v, tol = 1e-6, maxiter = 1000):\n",
    "    v = np.asarray(v)\n",
    "    A = np.asarray(A)\n",
    "    n, m = np.shape(A)\n",
    "    assert n == m, 'A must be square'\n",
    "    v /= norm(v)\n",
    "\n",
    "    vs, ls = list(), list()\n",
    "    Av_k = v\n",
    "\n",
    "    for i in range(maxiter):\n",
    "        \n",
    "        v_k = Av_k # atualiza v_k\n",
    "        Av_k = A@v_k # realiza a iteração sobre v_k \n",
    "        l_k = Av_k@v_k # o 'candidato' a autovalor vai ser a projeção da transformada do vetor em sua direção:\n",
    "        # v_k unitário => \\lambda = <Av_k, v_k>\n",
    "\n",
    "        if norm(Av_k - l_k*v_k)/norm(Av_k) < tol: # se estiver bom o suficiente...\n",
    "            Av_k /= norm(Av_k) # normaliza pra adicionar na lista\n",
    "            vs.append(Av_k)\n",
    "            ls.append(l_k)\n",
    "            break\n",
    "\n",
    "        Av_k /= norm(Av_k) # normaliza pra continuar a iteração e adicionar na lista\n",
    "        vs.append(Av_k)\n",
    "        ls.append(l_k)\n",
    "\n",
    "    return vs, ls"
   ]
  },
  {
   "cell_type": "code",
   "execution_count": 3,
   "metadata": {
    "deletable": false,
    "editable": false,
    "nbgrader": {
     "cell_type": "code",
     "checksum": "8b7df67a9e78f0a53d9441033a1e39cc",
     "grade": true,
     "grade_id": "cell-80f43e99a64ee409",
     "locked": true,
     "points": 1,
     "schema_version": 3,
     "solution": false
    }
   },
   "outputs": [],
   "source": [
    "# Autovetores conhecidos\n",
    "A = [[1,2],[2,1]]\n",
    "alvo = np.array([1,1])/np.sqrt(2)\n",
    "\n",
    "vs, ls = itera(A,[1.,2])\n",
    "\n",
    "assert(abs(ls[-1] - 3) < 1e-6)\n",
    "assert(all(abs(vs[-1] - alvo) < 1e-6))\n",
    "assert(10 < len(ls) < 20)"
   ]
  },
  {
   "cell_type": "code",
   "execution_count": 4,
   "metadata": {
    "deletable": false,
    "editable": false,
    "nbgrader": {
     "cell_type": "code",
     "checksum": "e16a43cb529a8a14fa223f26bc7a92fc",
     "grade": true,
     "grade_id": "cell-abf4f0438eefa28a",
     "locked": true,
     "points": 1,
     "schema_version": 3,
     "solution": false
    }
   },
   "outputs": [],
   "source": [
    "# Autovetores conhecidos\n",
    "A = [[1,2],[2,1]]\n",
    "alvo = np.array([1,1])/np.sqrt(2)\n",
    "\n",
    "vs, ls = itera(A,[1.,2], tol=1e-12)\n",
    "\n",
    "assert(abs(ls[-1] - 3) < 1e-12)\n",
    "assert(all(abs(vs[-1] - alvo) < 1e-12))\n",
    "assert(20 < len(ls) < 30)"
   ]
  },
  {
   "cell_type": "markdown",
   "metadata": {},
   "source": [
    "## Questão 2: Convergência\n",
    "\n",
    "Vejamos como o algoritmo \"converge\" para o autovetor.\n",
    "Use os vetores intermediários e faça um gráfico da evolução do erro entre os $v$'s produzidos e o autovetor $v_\\lambda$."
   ]
  },
  {
   "cell_type": "code",
   "execution_count": 5,
   "metadata": {
    "deletable": false,
    "nbgrader": {
     "cell_type": "code",
     "checksum": "edf8278367d9d90b9a9bbfc9cd498c25",
     "grade": false,
     "grade_id": "cell-5fbe094e6250b829",
     "locked": false,
     "schema_version": 3,
     "solution": true
    }
   },
   "outputs": [
    {
     "data": {
      "image/png": "[encoded data removed]",
      "text/plain": [
       "<Figure size 576x396 with 1 Axes>"
      ]
     },
     "metadata": {},
     "output_type": "display_data"
    }
   ],
   "source": [
    "plt.style.use('seaborn') # só pra não perder o costume. gosto desse estilo de plot\n",
    "\n",
    "ax = None\n",
    "vs, ls = itera(A, np.random.rand(2), tol=1e-10)\n",
    "\n",
    "erro_vs = [norm(alvo - v) for v in vs] # compara com o autovetor já conhecido\n",
    "\n",
    "plt.plot(erro_vs)\n",
    "plt.xlabel('Índice do vetor calculado')\n",
    "plt.ylabel('Norma do \\'vetor erro\\'')\n",
    "plt.title('Gráfico de evolução do erro')\n",
    "\n",
    "ax = plt.gca()\n",
    "plt.show()"
   ]
  },
  {
   "cell_type": "code",
   "execution_count": 6,
   "metadata": {
    "deletable": false,
    "editable": false,
    "nbgrader": {
     "cell_type": "code",
     "checksum": "0e96083c93c1576950233527aad2a7e7",
     "grade": true,
     "grade_id": "cell-64ee0faf69476729",
     "locked": true,
     "points": 2,
     "schema_version": 3,
     "solution": false
    },
    "scrolled": true
   },
   "outputs": [],
   "source": [
    "assert ax.title.get_text() != \"\"\n",
    "assert len(ax.lines) == 1\n",
    "\n",
    "ys = ax.lines[0].get_ydata()\n",
    "\n",
    "assert 1e-12 < min(ys) < 1e-10\n",
    "assert np.all(ys[:-1] > ys[1:])"
   ]
  },
  {
   "cell_type": "markdown",
   "metadata": {},
   "source": [
    "O que o último assert quer dizer?"
   ]
  },
  {
   "cell_type": "markdown",
   "metadata": {
    "deletable": false,
    "nbgrader": {
     "cell_type": "markdown",
     "checksum": "2b7418c406ceb48b82b692953030a886",
     "grade": true,
     "grade_id": "cell-8432b1317c5a799a",
     "locked": false,
     "points": 1,
     "schema_version": 3,
     "solution": true
    }
   },
   "source": [
    "O assert verifica se o elemento da posição $j$ da primeira lista é maior que o elemento de mesma posição da segunda lista. `ys[:-1]` é a lista dos `ys` removendo-se o último elemento (começa do primeiro e termina no penúltimo) e `ys[1:]` é a lista dos `ys` removendo-se o primeiro elemento (começa do segundo e termina no último). Dessa forma, o assert verifica se `ys[0] > ys[1]`, `ys[1] > ys[2]` ... etc. Verifica se a sequência dos `ys` é monotonicamente decrescente."
   ]
  },
  {
   "cell_type": "markdown",
   "metadata": {},
   "source": [
    "## Questão 3: Convergência comparada\n",
    "\n",
    "Para cada um dos vetores `d1` e `d2` abaixo, considere a matriz $A = \\operatorname{diag}(d_i)$ correspondente."
   ]
  },
  {
   "cell_type": "code",
   "execution_count": 7,
   "metadata": {},
   "outputs": [],
   "source": [
    "d1 = [1,10,20,30,31,32]\n",
    "d2 = [1,10,20,29,30,32]"
   ]
  },
  {
   "cell_type": "markdown",
   "metadata": {},
   "source": [
    "Qual é o autovetor com o maior autovalor para $A_1$ e $A_2$?"
   ]
  },
  {
   "cell_type": "markdown",
   "metadata": {
    "deletable": false,
    "nbgrader": {
     "cell_type": "markdown",
     "checksum": "5a683d9a38d3efafda5d47e87cfaa5e9",
     "grade": true,
     "grade_id": "cell-80ff3d3111fd3705",
     "locked": false,
     "points": 1,
     "schema_version": 3,
     "solution": true
    }
   },
   "source": [
    "Considerando autovetores unitários, em ambos os casos o autovetor associado ao maior autovalor, $32$, será o vetor $v = (0, 0, 0, 0, 0, 1)$."
   ]
  },
  {
   "cell_type": "markdown",
   "metadata": {},
   "source": [
    "Agora, compare a velocidade de convergência do autovetor usando `itera` para cada uma destas matrizes,\n",
    "fazendo o gráfico do erro entre os vetores gerados para $A_1$ e $A_2$ no mesmo eixo."
   ]
  },
  {
   "cell_type": "code",
   "execution_count": 8,
   "metadata": {
    "deletable": false,
    "nbgrader": {
     "cell_type": "code",
     "checksum": "3ca764e3da7ea8ea429af776a44a8564",
     "grade": false,
     "grade_id": "cell-0ca9beaae72f048a",
     "locked": false,
     "schema_version": 3,
     "solution": true
    }
   },
   "outputs": [
    {
     "data": {
      "image/png": "[encoded data removed]",
      "text/plain": [
       "<Figure size 576x396 with 1 Axes>"
      ]
     },
     "metadata": {},
     "output_type": "display_data"
    }
   ],
   "source": [
    "ax = None\n",
    "\n",
    "vs_1, _ = itera(np.diag(d1), np.ones(6))\n",
    "vs_2, _ = itera(np.diag(d2), np.ones(6))\n",
    "\n",
    "auto_v = np.array([0, 0, 0, 0, 0, 1])\n",
    "erro_vs_1 = [norm(auto_v - v) for v in vs_1]\n",
    "\n",
    "erro_vs_2 = [norm(auto_v - v) for v in vs_2]\n",
    "\n",
    "plt.plot(erro_vs_1, label = 'Matriz diagonal 1')\n",
    "plt.plot(erro_vs_2, label = 'Matriz diagonal 2')\n",
    "plt.xlabel('Índice do vetor calculado')\n",
    "plt.ylabel('Norma do \\'vetor erro\\'')\n",
    "plt.title('Gráfico de evolução do erro')\n",
    "plt.legend()\n",
    "\n",
    "ax = plt.gca()\n",
    "plt.show()"
   ]
  },
  {
   "cell_type": "code",
   "execution_count": 9,
   "metadata": {
    "deletable": false,
    "editable": false,
    "nbgrader": {
     "cell_type": "code",
     "checksum": "36a34c9984604b071062f50289573f94",
     "grade": true,
     "grade_id": "cell-b5b7998bcab31e94",
     "locked": true,
     "points": 2,
     "schema_version": 3,
     "solution": false
    }
   },
   "outputs": [],
   "source": [
    "assert ax.title.get_text() != \"\"\n",
    "assert len(ax.lines) == 2\n",
    "assert len(ax.legend().texts) == 2"
   ]
  },
  {
   "cell_type": "markdown",
   "metadata": {},
   "source": [
    "Para qual matriz há convergência mais rápida?  Como você explicaria isso?"
   ]
  },
  {
   "cell_type": "markdown",
   "metadata": {
    "deletable": false,
    "nbgrader": {
     "cell_type": "markdown",
     "checksum": "dd2cc33a4dfede5f2ae8a3792c74cced",
     "grade": true,
     "grade_id": "cell-c2652af3d1fa97e1",
     "locked": false,
     "points": 2,
     "schema_version": 3,
     "solution": true
    }
   },
   "source": [
    "O segundo caso tem uma convergência mais rápida. O que atrasa a convergência num caso e acelera no outro é a razão entre os maiores autovalores. Se o segundo maior autovalor está mais próximo do primeiro em um caso, fica mais difícil 'apagar' a projeção do vetor que tá sendo iterado no autoespaço associado a esse segundo autovalor, logo, a convergência é mais demorada. Continuando o raciocínio, acho que a razão entre **o maior** autovalor e o terceiro, quarto, ..., n-ésimo autovalores maiores também têm uma certa influência na 'duração' da convergência, mas essa influência é menos acentuada se comparada com a razão entre os dois maiores. Nesse caso aqui, só os três maiores provocam essa diferença, já que os três menores são iguais nos dois vetores."
   ]
  },
  {
   "cell_type": "markdown",
   "metadata": {},
   "source": [
    "## Questão 4: Convergência?\n",
    "\n",
    "Sejam $\\theta \\in [0,2\\pi]$ e $\\alpha \\in \\mathbb{R}$,\n",
    "e considere a matriz \n",
    "$$A(\\theta, \\alpha) = \\begin{bmatrix} \n",
    "\\cos(\\theta) & \\sin(\\theta) & 0\\\\\n",
    "-\\sin(\\theta) &\\cos(\\theta) &  0\\\\\n",
    "0 & 0 & \\alpha\\\\\n",
    "\\end{bmatrix}.$$\n",
    "\n",
    "Qual a interpretação geométrica dessa matriz?"
   ]
  },
  {
   "cell_type": "markdown",
   "metadata": {
    "deletable": false,
    "nbgrader": {
     "cell_type": "markdown",
     "checksum": "f3e315d21d30817427f1c97a5fa47dfe",
     "grade": true,
     "grade_id": "cell-549ef2ace83f1d22",
     "locked": false,
     "points": 1,
     "schema_version": 3,
     "solution": true
    }
   },
   "source": [
    "Ela recebe um vetor do $\\mathbb{R}^3$, rotaciona ele no sentido horário em um ângulo de $\\theta$ no plano gerado por $(1, 0, 0)$ e $(0, 1, 0)$ e redimensiona o vetor em um fator $\\alpha$ na direção de $(0, 0, 1)$."
   ]
  },
  {
   "cell_type": "markdown",
   "metadata": {},
   "source": [
    "Quais são os autovetores de $A$ (em função de $\\theta$ e $\\alpha$)?"
   ]
  },
  {
   "cell_type": "markdown",
   "metadata": {
    "deletable": false,
    "nbgrader": {
     "cell_type": "markdown",
     "checksum": "744ca49d1747aacd228bcc3dccdcc78f",
     "grade": true,
     "grade_id": "cell-c71fb25daa36f1e4",
     "locked": false,
     "points": 2,
     "schema_version": 3,
     "solution": true
    }
   },
   "source": [
    "Aqui eu vou ignorar as contas pro caso em que $\\theta = 2 k \\pi$ já que, nesse caso, a matriz $A$ fica $$A = \\begin{pmatrix}  1 & 0 & 0 \\\\ 0 & 1 & 0 \\\\ 0 & 0 & \\alpha \\end{pmatrix}$$ e os autovalores dela vão ser $1$ e $\\alpha$ e os autovetores serão a base canônica do $\\mathbb{R}^3$. E também vou ignorar pro caso em que $\\theta = (2 k + 1) \\pi$, já que, nesse caso, a matriz $A$ fica $$A = \\begin{pmatrix}  -1 & 0 & 0 \\\\ 0 & -1 & 0 \\\\ 0 & 0 & \\alpha \\end{pmatrix}$$ e os autovalores dela vão ser $-1$ e $\\alpha$ e os autovetores também serão a base canônica do $\\mathbb{R}^3$. Se $\\theta \\neq k \\pi$ as contas seguem:\n",
    "\n",
    "## Calculando os autovalores:\n",
    "\n",
    "$\\lambda$ é autovalor $\\Rightarrow \\lambda$ é raíz do polinômio característico. Logo:\n",
    "\n",
    "$$\\begin{vmatrix} \n",
    "\\cos(\\theta) - x & \\sin(\\theta) & 0\n",
    "\\\\ -\\sin(\\theta) & \\cos(\\theta) - x &  0\n",
    "\\\\ 0 & 0 & \\alpha - x\n",
    "\\end{vmatrix} = (\\cos(\\theta) - x)^2 (\\alpha - x) + \\sin^2(\\theta) (\\alpha - x) = (\\alpha - x) ((\\cos(\\theta) - x)^2 + \\sin^2(\\theta)) = 0$$\n",
    "\n",
    "Duas soluções:\n",
    "\n",
    "I) $\\lambda = \\alpha$\n",
    "\n",
    "II) $\\lambda$ é raíz de $(\\cos(\\theta) - x)^2 + \\sin^2(\\theta) = 0$\n",
    "\n",
    "Resolvendo II:\n",
    "\n",
    "$$\\cos^2(\\theta) - 2 \\cos(\\theta) x + x^2 + \\sin^2(\\theta) = 0 \\Rightarrow 1 - 2 \\cos(\\theta) x + x^2 = 0 \\Rightarrow x = \\frac{2 \\cos(\\theta) \\pm \\sqrt{4 \\cos^2(\\theta) - 4}}{2} = \\cos(\\theta) \\pm \\sqrt{\\cos^2(\\theta) - 1} \\Rightarrow $$\n",
    "$$x = \\cos(\\theta) \\pm \\sqrt{- \\sin^2(\\theta)} = \\cos(\\theta) \\pm i \\sin(\\theta)$$\n",
    "\n",
    "Os autovalores são: $\\alpha, \\cos(\\theta) + i \\sin(\\theta), \\cos(\\theta) - i \\sin(\\theta)$.\n",
    "\n",
    "## Calculando os autovetores:\n",
    "\n",
    "Quanto ao autovalor $\\alpha$, é fácil de ver que o autovetor unitário associado a ele é $v_1 = (0, 0, 1)$.\n",
    "\n",
    "Quanto aos outros, basta resolver a equação $(A - I\\lambda)x = 0$:\n",
    "\n",
    "$$\\lambda = \\cos(\\theta) + i \\sin(\\theta) \\Rightarrow \\begin{pmatrix}  \\cos(\\theta) - (\\cos(\\theta) + i \\sin(\\theta)) & \\sin(\\theta) & 0 \\\\ -\\sin(\\theta) & \\cos(\\theta) - (\\cos(\\theta) + i \\sin(\\theta)) &  0 \\\\ 0 & 0 & \\alpha - (\\cos(\\theta) + i \\sin(\\theta)) \\end{pmatrix} \\begin{pmatrix} x \\\\ y \\\\ z \\end{pmatrix} = \\begin{pmatrix} 0 \\\\ 0 \\\\ 0 \\end{pmatrix}$$\n",
    "\n",
    "$$\\Rightarrow \\begin{pmatrix} - i \\sin(\\theta) & \\sin(\\theta) & 0 \\\\ -\\sin(\\theta) & - i \\sin(\\theta)) &  0 \\\\ 0 & 0 & \\alpha - \\cos(\\theta) - i \\sin(\\theta) \\end{pmatrix} \\begin{pmatrix} x \\\\ y \\\\ z \\end{pmatrix} = \\begin{pmatrix} 0 \\\\ 0 \\\\ 0 \\end{pmatrix} \\Rightarrow \\begin{cases} x \\sin(\\theta) + y i \\sin(\\theta) = 0 \\\\ z (\\alpha - \\cos(\\theta) - i \\sin(\\theta)) = 0 \\end{cases} \\Rightarrow \\begin{cases} y = xi \\\\ z = 0 \\end{cases}$$\n",
    "\n",
    "Com isso, um autovetor unitário associado a $\\lambda = \\cos(\\theta) + i \\sin(\\theta)$ é $v_2 = \\frac{\\sqrt{2}}{2} (1, i, 0)$.\n",
    "\n",
    "O autovetor associado ao autovalor $\\lambda = \\cos(\\theta) - i \\sin(\\theta)$, que é o conjugado de $\\cos(\\theta) + i \\sin(\\theta)$, vai ser o autovetor cujas coordenadas são as conjugadas do autovetor anterior. Assim, um terceiro autovetor é $v_3 = \\frac{\\sqrt{2}}{2} (-1, i, 0)$.\n",
    "\n",
    "## Concluindo:\n",
    "\n",
    "Se $\\theta = 2 k \\pi$, os autovalores serão $1$ (multiplicidade $2$) e $\\alpha$ e os autovetores serão a base canônica do $\\mathbb{R}^3$.\n",
    "\n",
    "Se $\\theta = (2 k + 1) \\pi$, os autovalores serão $-1$ (multiplicidade $2$) e $\\alpha$ e os autovetores serão a base canônica do $\\mathbb{R}^3$.\n",
    "\n",
    "Se $\\theta \\neq k \\pi$, sendo os autovalores: $\\alpha, \\cos(\\theta) + i \\sin(\\theta), \\cos(\\theta) - i \\sin(\\theta)$, os autovetores unitários associados a eles são, respectivamente: $$(0, 0, 1), \\frac{\\sqrt{2}}{2} (1, i, 0), \\frac{\\sqrt{2}}{2} (-1, i, 0).$$"
   ]
  },
  {
   "cell_type": "markdown",
   "metadata": {},
   "source": [
    "Implemente a função abaixo que gera a matriz $A$:"
   ]
  },
  {
   "cell_type": "code",
   "execution_count": 10,
   "metadata": {
    "deletable": false,
    "nbgrader": {
     "cell_type": "code",
     "checksum": "f9379dfd544d6f06e823079051714d2c",
     "grade": false,
     "grade_id": "cell-782a31adaac5452f",
     "locked": false,
     "schema_version": 3,
     "solution": true
    }
   },
   "outputs": [],
   "source": [
    "def make_matrix(theta, alpha):\n",
    "    matrix = [[np.cos(theta), np.sin(theta), 0],\n",
    "              [-np.sin(theta), np.cos(theta), 0],\n",
    "              [0, 0, alpha]]\n",
    "    \n",
    "    return np.array(matrix)"
   ]
  },
  {
   "cell_type": "code",
   "execution_count": 11,
   "metadata": {
    "deletable": false,
    "editable": false,
    "nbgrader": {
     "cell_type": "code",
     "checksum": "81c5c6ee789679ce1eaa1cd9326f3232",
     "grade": true,
     "grade_id": "cell-ec8cf18f333dc2d1",
     "locked": true,
     "points": 1,
     "schema_version": 3,
     "solution": false
    }
   },
   "outputs": [],
   "source": [
    "assert np.allclose(make_matrix(0,1),np.eye(3))\n",
    "assert np.allclose(make_matrix(np.pi,0.5),[[-1,0,0],[0,-1,0],[0,0,0.5]])"
   ]
  },
  {
   "cell_type": "markdown",
   "metadata": {},
   "source": [
    "Fixando $\\theta = \\dfrac{\\pi}{4}$,\n",
    "faça um gráfico do número de iterações necessários para calcular o maior autovetor,\n",
    "em função de $\\alpha \\in [0.5,1.5]$, com precisão `1e-12`."
   ]
  },
  {
   "cell_type": "code",
   "execution_count": 12,
   "metadata": {
    "deletable": false,
    "nbgrader": {
     "cell_type": "code",
     "checksum": "13badfe80d0975193e3b0cffb5ec609d",
     "grade": false,
     "grade_id": "cell-b784f741aca3e042",
     "locked": false,
     "schema_version": 3,
     "solution": true
    }
   },
   "outputs": [
    {
     "data": {
      "image/png": "[encoded data removed]",
      "text/plain": [
       "<Figure size 576x396 with 1 Axes>"
      ]
     },
     "metadata": {},
     "output_type": "display_data"
    }
   ],
   "source": [
    "alphas = np.linspace(0.5, 1.5, 100)\n",
    "ax = None\n",
    "\n",
    "v = np.random.rand(3)\n",
    "num_iter = list()\n",
    "\n",
    "for alpha in alphas:\n",
    "    M = make_matrix(np.pi/4, alpha)\n",
    "    n = len(itera(M, v, 1e-12)[0])\n",
    "    num_iter.append(n)\n",
    "\n",
    "plt.plot(alphas, num_iter)\n",
    "plt.xlabel('Valores de α')\n",
    "plt.ylabel('Número de iterações')\n",
    "plt.title('Número de iterações por valor de α')\n",
    "\n",
    "# plt.axvline(1.05)\n",
    "\n",
    "ax = plt.gca()\n",
    "plt.show()"
   ]
  },
  {
   "cell_type": "code",
   "execution_count": 13,
   "metadata": {
    "deletable": false,
    "editable": false,
    "nbgrader": {
     "cell_type": "code",
     "checksum": "e607360e6bae8d898127b9cd2ccbf7ec",
     "grade": true,
     "grade_id": "cell-e13220288c2e5c20",
     "locked": true,
     "points": 2,
     "schema_version": 3,
     "solution": false
    }
   },
   "outputs": [],
   "source": [
    "assert ax.title.get_text() != \"\"\n",
    "assert len(ax.lines) == 1\n",
    "assert ax.get_xlabel() != \"\"\n",
    "\n",
    "ys = ax.lines[0].get_ydata()\n",
    "\n",
    "assert 100 > ys.min() > 60\n",
    "assert ys[55] < 600\n",
    "assert ys[50] > 900"
   ]
  },
  {
   "cell_type": "markdown",
   "metadata": {},
   "source": [
    "Agora, faça o gráfico com a estimativa do autovalor, novamente em função de $\\alpha$."
   ]
  },
  {
   "cell_type": "code",
   "execution_count": 14,
   "metadata": {
    "deletable": false,
    "nbgrader": {
     "cell_type": "code",
     "checksum": "b0eb57c92d6b9a9f64ec5b499c17f61f",
     "grade": false,
     "grade_id": "cell-496cb16ecaa50929",
     "locked": false,
     "schema_version": 3,
     "solution": true
    }
   },
   "outputs": [
    {
     "data": {
      "image/png": "[encoded data removed]",
      "text/plain": [
       "<Figure size 576x396 with 1 Axes>"
      ]
     },
     "metadata": {},
     "output_type": "display_data"
    }
   ],
   "source": [
    "ax = None\n",
    "\n",
    "lambdas = list()\n",
    "\n",
    "for alpha in alphas:\n",
    "    M = make_matrix(np.pi/4, alpha)\n",
    "    lambda_ = itera(M, v, 1e-12)[1][-1]\n",
    "    lambdas.append(lambda_)\n",
    "\n",
    "plt.plot(alphas, lambdas)\n",
    "plt.xlabel('Valores de α')\n",
    "plt.ylabel(f'Estimativa do autovalor')\n",
    "plt.title(f'Estimativa do autovalor para valor de α')\n",
    "\n",
    "ax = plt.gca()\n",
    "plt.show()"
   ]
  },
  {
   "cell_type": "code",
   "execution_count": 15,
   "metadata": {
    "deletable": false,
    "editable": false,
    "nbgrader": {
     "cell_type": "code",
     "checksum": "96f85ebabc2e6cc13aeb4dd6b41642b6",
     "grade": true,
     "grade_id": "cell-6bc7eba37b6f9533",
     "locked": true,
     "points": 2,
     "schema_version": 3,
     "solution": false
    }
   },
   "outputs": [],
   "source": [
    "assert ax.title.get_text() != \"\"\n",
    "assert len(ax.lines) == 1\n",
    "assert ax.get_xlabel() != \"\"\n",
    "\n",
    "ys = ax.lines[0].get_ydata()\n",
    "\n",
    "assert np.all(0.7 <= ys) and np.all(ys <= 1.5)"
   ]
  },
  {
   "cell_type": "markdown",
   "metadata": {},
   "source": [
    "Como explicar a variação no número de iterações? O que isso tem a ver com o autovalor retornado?"
   ]
  },
  {
   "cell_type": "markdown",
   "metadata": {
    "deletable": false,
    "nbgrader": {
     "cell_type": "markdown",
     "checksum": "c65c06a6c6b5aefd1222f7d57ed3c506",
     "grade": true,
     "grade_id": "cell-d2c0a1630ea2b95b",
     "locked": false,
     "points": 2,
     "schema_version": 3,
     "solution": true
    }
   },
   "source": [
    "Se $\\alpha < 1$, os autovalores de maior módulo são os complexos (que têm módulo $1$). Como estamos tentando forçar uma procura de autovalores reais e como os autovalores complexos têm o mesmo módulo, o algoritmo vai ficar oscilando sem chegar a lugar nenhum. Vai cair num loop infinito e o código só vai parar de rodar quando alcançar o máximo de iterações.\n",
    "\n",
    "Quando $\\alpha > 1$, seu módulo supera o módulo dos outros dois autovalores complexos e $\\alpha$ passa a ser o maior autovalor. Com isso, se houverem passos suficientes, e precisão suficiente, o algoritmo deve convergir pra $\\alpha$.\n",
    "\n",
    "No primeiro caso, $\\alpha < 1$, o autovalor encontrado foi algo próximo de $\\frac{\\sqrt{2}}{2}$, que é a parte real de $\\cos \\left(\\frac{\\pi}{4} \\right) \\pm i \\sin \\left(\\frac{\\pi}{4} \\right)$. Já no segundo caso, $\\alpha > 1$, o autovalor retornado é o próprio $\\alpha$, como era de se esperar."
   ]
  },
  {
   "cell_type": "markdown",
   "metadata": {},
   "source": [
    "# Questão 5: Autovalores negativos\n",
    "\n",
    "Em princípio, tudo deveria funcionar de forma muito similar para autovalores **negativos**.\n",
    "\n",
    "Estude o caso $\\alpha \\in [-1.5, -0.5]$, fazendo os dois gráficos lado a lado."
   ]
  },
  {
   "cell_type": "code",
   "execution_count": 16,
   "metadata": {
    "deletable": false,
    "nbgrader": {
     "cell_type": "code",
     "checksum": "9fa426aaaac704edb354db762cf3f10d",
     "grade": false,
     "grade_id": "cell-57f58a930c6eee87",
     "locked": false,
     "schema_version": 3,
     "solution": true,
     "task": false
    },
    "scrolled": true
   },
   "outputs": [
    {
     "data": {
      "image/png": "[encoded data removed]",
      "text/plain": [
       "<Figure size 936x288 with 2 Axes>"
      ]
     },
     "metadata": {},
     "output_type": "display_data"
    }
   ],
   "source": [
    "fig, (ax1, ax2) = plt.subplots(ncols=2, figsize=(13,4))\n",
    "negalphas = np.linspace(-1.5, -0.5, 100)\n",
    "\n",
    "num_iter = list()\n",
    "\n",
    "for alpha in negalphas:\n",
    "    M = make_matrix(np.pi/4, alpha)\n",
    "    n = len(itera(M, v, 1e-12)[0])\n",
    "    num_iter.append(n)\n",
    "\n",
    "ax1.plot(negalphas, num_iter)\n",
    "ax1.set_xlabel('Valores de α')\n",
    "ax1.set_ylabel('Número de iterações')\n",
    "ax1.set_title('Número de iterações por valor de α')\n",
    "\n",
    "# ax1.axvline(-1.05)\n",
    "\n",
    "lambdas = list()\n",
    "\n",
    "for alpha in negalphas:\n",
    "    M = make_matrix(np.pi/4, alpha)\n",
    "    lambda_ = itera(M, v, 1e-12)[1][-1]\n",
    "    lambdas.append(lambda_)\n",
    "\n",
    "ax2.plot(negalphas, lambdas)\n",
    "ax2.set_xlabel('Valores de α')\n",
    "ax2.set_ylabel(f'Estimativa do autovalor')\n",
    "ax2.set_title(f'Estimativa do autovalor para valor de α');"
   ]
  },
  {
   "cell_type": "code",
   "execution_count": 17,
   "metadata": {
    "deletable": false,
    "editable": false,
    "nbgrader": {
     "cell_type": "code",
     "checksum": "ff5d11660e6f44529946fa3b2527d28f",
     "grade": true,
     "grade_id": "cell-59a7cae1d7d54ba6",
     "locked": true,
     "points": 2,
     "schema_version": 3,
     "solution": false,
     "task": false
    }
   },
   "outputs": [],
   "source": [
    "assert ax1.title.get_text() != \"\"\n",
    "assert len(ax1.lines) == 1\n",
    "assert ax1.get_xlabel() != \"\"\n",
    "\n",
    "ys1 = ax1.lines[0].get_ydata()\n",
    "\n",
    "assert 100 > ys1.min() > 60\n",
    "assert ys1[44] < 600\n",
    "assert ys1[49] > 900\n",
    "\n",
    "\n",
    "assert ax2.title.get_text() != \"\"\n",
    "assert len(ax2.lines) == 1\n",
    "assert ax2.get_xlabel() != \"\"\n",
    "\n",
    "ys2 = ax2.lines[0].get_ydata()\n",
    "\n",
    "assert np.all(0.71 >= ys2)\n",
    "assert np.all(ys2 >= -1.5)"
   ]
  },
  {
   "cell_type": "markdown",
   "metadata": {},
   "source": [
    "Para funcionar, o teste `ys1[i] < 600` teve seu índice foi trocado de `55` para `44`.\n",
    "Explique esta mudança, tanto do ponto de vista matemático,\n",
    "quanto da linguagem Python. "
   ]
  },
  {
   "cell_type": "markdown",
   "metadata": {
    "deletable": false,
    "nbgrader": {
     "cell_type": "markdown",
     "checksum": "9a3ccae261204c58122af5c1582f69f3",
     "grade": true,
     "grade_id": "cell-de42c88dea47bd4a",
     "locked": false,
     "points": 2,
     "schema_version": 3,
     "solution": true,
     "task": false
    }
   },
   "source": [
    "No primeiro gráfico, as linhas são decrescentes e o $\\alpha$ pro qual `ys < 600` tem que estar à direita da abscissa de `ys = 600`. No segundo, o traço é crescente e o $\\alpha$ tem que estar à esquerda.\n",
    "\n",
    "Fazendo uns testes com o `plt.axvline()`, eu verifiquei que `ys < 600` ocorre, no primeiro exemplo, pra $\\alpha > 1.05$ e, no segundo, para $\\alpha < -1.05$.\n",
    "\n",
    "O comando `np.linspace(a, b, n)` 'encaixa' 99 intervalos de mesma medida 'h' entre os limites inf e sup. Como os intervalos têm o mesmo tamanho e estão sendo dividos em $99$ pedaços, $h = \\frac{1.5 - 0.5}{99} = \\frac{1}{99}$. Basta encontrar quais os índices de $\\alpha$ em cada caso que satisfazem $\\alpha > 1.05$ em um e $\\alpha < -1.05$ no outro usando conhecimento básico de progressão aritmética.\n",
    "\n",
    "No primeiro caso ($[a, b] = [0.5, 1.5]$), contando da forma 'pythonica', o índice de a é 0. O índice do $\\alpha$ desejado vai ser um $n$ tal que: $0.5 + n/99 = 1.05$. Com isso: $n/99 = 0.55 \\Rightarrow n = 54.45$. Como $n$ deve estar à direita desse valor, o primeiro que satisfaz a isso é $n = 55$.\n",
    "\n",
    "No segundo caso, ($[a, b] = [-1.5, -0.5]$), contando da forma 'pythonica', o índice de a é 0. O índice do $\\alpha$ desejado vai ser um $n$ tal que: $-1.5 + n/99 = -1.05$. Com isso: $n/99 = 0.45 \\Rightarrow n = 44.55$. Como $n$ deve estar à esquerda desse valor, o primeiro que satisfaz a isso é $n = 44$."
   ]
  },
  {
   "cell_type": "markdown",
   "metadata": {},
   "source": [
    "Explique, também, porque $0.71$ deve ser suficiente como cota superior. (Aqui, é \"só\" matemática, mas a matemática pode ser um pouco mais complexa)"
   ]
  },
  {
   "cell_type": "markdown",
   "metadata": {
    "deletable": false,
    "nbgrader": {
     "cell_type": "markdown",
     "checksum": "b7aab5599d6189084874fbd14c542f55",
     "grade": true,
     "grade_id": "cell-cf2020151488e34a",
     "locked": false,
     "points": 2,
     "schema_version": 3,
     "solution": true,
     "task": false
    }
   },
   "source": [
    "Se $\\alpha < -1$, o autovalor encontrado vai ser o próprio $\\alpha$, já que vai ser o de maior módulo. Isso é óbvio e descarta análise. A gente só tem que se preocupar aqui com o que acontece com os maiores autovalores (complexos), quando eles são os de maior módulo, ou seja, $\\alpha > -1$.\n",
    "\n",
    "Veja que $0.71$ é uma aproximação por cima da parte real dos autovalores complexos. Como $\\frac{\\sqrt{2}}{2} \\approx 0.70710678$ é o maior valor retornado, a cota superior tem que ser maior do que isso, então $0.71$ tá bom. A explicação matematicamente formal segue:\n",
    "\n",
    "Vou omitir alguns passos porque as contas são muitas, mas vou omitir somente aquilo que é facilmente verificável pelo uso de álgebra.\n",
    "\n",
    "Volte na questão onde consta o código e verifique que as estimativas dos autovalores são calculadas por `l_k = Av_k@v_k`, que, nesse caso, é equivalente a fazer $\\lambda_k = \\langle Av_k, v_k \\rangle$ (lembrando que o algoritmo sempre normaliza $v_k$ antes de fazer a aplicação $A$). Pra entender o que acontece na questão, basta verificar pra onde converge $\\lambda_k = \\langle A v_k, v_k \\rangle$ quando $k$ cresce, para certos valores de $\\theta$ e $\\alpha$.\n",
    "\n",
    "Sejam $$A = \\begin{pmatrix} \\cos(\\theta) & \\sin(\\theta) & 0 \\\\ -\\sin(\\theta) &\\cos(\\theta) &  0 \\\\ 0 & 0 & \\alpha \\end{pmatrix}$$ a matriz da aplicação linear e $$v_0 = \\begin{pmatrix} x \\\\ y \\\\ z \\end{pmatrix}$$ um vetor unitário inicial qualquer.\n",
    "\n",
    "Como $v_1 = Av_0$, temos que: $$v_1 = \\begin{pmatrix} \\cos(\\theta) & \\sin(\\theta) & 0 \\\\ -\\sin(\\theta) &\\cos(\\theta) &  0 \\\\ 0 & 0 & \\alpha \\end{pmatrix} \\begin{pmatrix} x \\\\ y \\\\ z \\end{pmatrix} = \\begin{pmatrix} x \\cos(\\theta) + y \\sin(\\theta) \\\\ - x \\sin(\\theta) + y \\cos(\\theta) \\\\ z \\alpha \\end{pmatrix}$$\n",
    "\n",
    "Após normalizar $v_1$ ficamos com: $$v_1 = \\frac{1}{\\sqrt{x^2 + y^2 + z^2\\alpha^2}} \\begin{pmatrix} x \\cos(\\theta) + y \\sin(\\theta) \\\\ - x \\sin(\\theta) + y \\cos(\\theta) \\\\ z \\alpha \\end{pmatrix}$$\n",
    "\n",
    "Fazendo o mesmo com $v_2$, temos que: $$v_2 = A v_1 = \\frac{1}{\\sqrt{x^2 + y^2 + z^2\\alpha^2}} \\begin{pmatrix} \\cos(\\theta) & \\sin(\\theta) & 0 \\\\ -\\sin(\\theta) &\\cos(\\theta) &  0 \\\\ 0 & 0 & \\alpha \\end{pmatrix} \\begin{pmatrix} x \\cos(\\theta) + y \\sin(\\theta) \\\\ - x \\sin(\\theta) + y \\cos(\\theta) \\\\ z \\alpha \\end{pmatrix} = \\frac{1}{\\sqrt{x^2 + y^2 + z^2\\alpha^2}} \\begin{pmatrix} x \\cos(2\\theta) + y \\sin(2\\theta) \\\\ - x \\sin(2\\theta) + y \\cos(2\\theta) \\\\ z \\alpha^2 \\end{pmatrix}$$\n",
    "\n",
    "Após normalizar: $$v_2 = \\frac{1}{\\sqrt{x^2 + y^2 + z^2\\alpha^4}} \\begin{pmatrix} x \\cos(2\\theta) + y \\sin(2\\theta) \\\\ - x \\sin(2\\theta) + y \\cos(2\\theta) \\\\ z \\alpha^2 \\end{pmatrix}$$\n",
    "\n",
    "E aí fica fácil de ver, por um argumento simples de indução, que, após a normalização, um $v_k$ qualquer é dado por:\n",
    "\n",
    "$$v_k = A^k v_0 = \\frac{1}{\\sqrt{x^2 + y^2 + z^2\\alpha^{2k}}} \\begin{pmatrix} x \\cos(k\\theta) + y \\sin(k\\theta) \\\\ -x \\sin(k\\theta) + y \\cos(k\\theta) \\\\ z \\alpha^k\\end{pmatrix}$$\n",
    "\n",
    "Já que $\\lambda_k = \\langle A v_k, v_k \\rangle$, temos que:\n",
    "\n",
    "$$A v_k = \\frac{1}{\\sqrt{x^2 + y^2 + z^2\\alpha^{2k}}} \\begin{pmatrix} x \\cos(k+1)\\theta + y \\sin(k+1)\\theta \\\\ -x \\sin(k+1)\\theta + y \\cos(k+1)\\theta \\\\ z \\alpha^{k+1}\\end{pmatrix}$$\n",
    "\n",
    "($A v_k$ não é normalizado)\n",
    "\n",
    "Logo:\n",
    "\n",
    "$$\\lambda_k = \\langle A v_k, v_k \\rangle = \\frac{1}{x^2 + y^2 + z^2\\alpha^{2k}} \\begin{pmatrix} x \\cos(k+1)\\theta + y \\sin(k+1)\\theta \\\\ -x \\sin(k+1)\\theta + y \\cos(k+1)\\theta \\\\ z \\alpha^{k+1}\\end{pmatrix} \\cdot \\begin{pmatrix} x \\cos(k\\theta) + y \\sin(k\\theta) \\\\ -x \\sin(k\\theta) + y \\cos(k\\theta) \\\\ z \\alpha^k\\end{pmatrix}$$\n",
    "\n",
    "Faça $(k+1)\\theta = a$ e $k\\theta = b$, pra economizar letras. O produto escalar acima nos dá:\n",
    "\n",
    "$$\\begin{pmatrix} x \\cos(a) + y \\sin(a) \\\\ -x \\sin(a) + y \\cos(a) \\\\ z \\alpha^{k+1}\\end{pmatrix} \\cdot \\begin{pmatrix} x \\cos(b) + y \\sin(b) \\\\ -x \\sin(b) + y \\cos(b) \\\\ z \\alpha^k\\end{pmatrix} =$$\n",
    "\n",
    "$$= x^2 \\cos(a)\\cos(b) + xy \\cos(a)\\sin(b) + xy \\cos(b)\\sin(a) + y^2 \\sin(a)\\sin(b) + x^2 \\sin(a)\\sin(b) - xy \\cos(a)\\sin(b) - xy \\cos(b)\\sin(a) + y^2 \\cos(a)\\cos(b) + z \\alpha^{2k+1} =$$\n",
    "\n",
    "$$= x^2 \\cos(a)\\cos(b) + y^2 \\sin(a)\\sin(b) + x^2 \\sin(a)\\sin(b) + y^2 \\cos(a)\\cos(b) + z \\alpha^{2k+1} =$$\n",
    "\n",
    "$$= (\\cos(a)\\cos(b) + \\sin(a)\\sin(b))(x^2 + y^2) + z \\alpha^{2k+1} = \\cos(a-b)(x^2 + y^2) + z \\alpha^{2k+1}$$\n",
    "\n",
    "Como $(k+1)\\theta = a$ e $k\\theta = b$, concluímos que o produto escalar fica: $$\\cos(a-b)(x^2 + y^2) + z \\alpha^{2k+1} = \\cos(\\theta)(x^2 + y^2) + z \\alpha^{2k+1}$$\n",
    "\n",
    "Com isso, a expressão para $\\lambda_k$ é:\n",
    "\n",
    "$$\\lambda_k = \\langle A v_k, v_k \\rangle = \\frac{\\cos(\\theta)(x^2 + y^2) + z \\alpha^{2k+1}}{x^2 + y^2 + z^2\\alpha^{2k}}$$\n",
    "\n",
    "Lembrando que estamos analisando o caso $0 > \\alpha > -1$. Nesse caso, para $k$ grande o suficiente, já que $|\\alpha| < 1$, temos que $\\alpha^k \\to 0$. Com isso, no limite (matematicamente o infinito e computacionalmente, a precisão do computador), concluímos que: $$\\lambda_k \\to \\frac{\\cos(\\theta)(x^2 + y^2)}{x^2 + y^2} = \\cos(\\theta) \\Rightarrow \\lambda_k \\to \\cos(\\theta).$$\n",
    "\n",
    "Nesse exemplo específico, $\\cos(\\frac{\\pi}{4}) \\approx 0.70710678 < 0.71$. Então, $0.71$ é um limite superior legal pra colocar no gráfico."
   ]
  },
  {
   "cell_type": "markdown",
   "metadata": {},
   "source": [
    "# Questão 6: Mudando $\\theta$\n",
    "\n",
    "A velocidade de convergência muda ao trocar $\\theta$?\n",
    "Teste outros valores, e refaça os gráficos, agora com várias curvas em cada eixo,\n",
    "uma para cada um dos valores de $\\theta$ que você estudou."
   ]
  },
  {
   "cell_type": "code",
   "execution_count": 18,
   "metadata": {
    "deletable": false,
    "nbgrader": {
     "cell_type": "code",
     "checksum": "b777e47e422ea6f37fbe6f2cffee6cab",
     "grade": true,
     "grade_id": "cell-9b0c0c87e0cb96a7",
     "locked": false,
     "points": 3,
     "schema_version": 3,
     "solution": true,
     "task": false
    },
    "scrolled": true
   },
   "outputs": [
    {
     "data": {
      "image/png": "[encoded data removed]",
      "text/plain": [
       "<Figure size 936x288 with 2 Axes>"
      ]
     },
     "metadata": {},
     "output_type": "display_data"
    }
   ],
   "source": [
    "fig, (ax1, ax2) = plt.subplots(ncols=2, figsize=(13,4))\n",
    "alphas = np.linspace(0.5, 1.5, 100)\n",
    "#alphas = np.linspace(-1.5, -0.5, 100)\n",
    "\n",
    "thetas = {np.pi*0:'0', np.pi*1/6:'\\pi/6', np.pi*1/3:'\\pi/3', np.pi*1/2:'\\pi/2', np.pi:'\\pi'}\n",
    "\n",
    "for theta in thetas:\n",
    "\n",
    "    num_iter = list()\n",
    "\n",
    "    for alpha in alphas:\n",
    "        M = make_matrix(theta, alpha)\n",
    "        n = len(itera(M, v, 1e-12)[0])\n",
    "        num_iter.append(n)\n",
    "    \n",
    "    ax1.plot(alphas, num_iter, label=(f'θ = ${thetas[theta]}$'))\n",
    "\n",
    "    lambdas = list()\n",
    "\n",
    "    for alpha in alphas:\n",
    "        M = make_matrix(theta, alpha)\n",
    "        lambda_ = itera(M, v, 1e-12)[1][-1]\n",
    "        lambdas.append(lambda_)\n",
    "    \n",
    "    ax2.plot(alphas, lambdas, label=(f'θ = ${thetas[theta]}$'))\n",
    "\n",
    "ax1.set_xlabel('Valores de α')\n",
    "ax1.set_ylabel('Número de iterações')\n",
    "ax1.set_title('Número de iterações por valor de α')\n",
    "\n",
    "ax2.set_xlabel('Valores de α')\n",
    "ax2.set_ylabel(f'Estimativa do autovalor')\n",
    "ax2.set_title(f'Estimativa do autovalor para valor de α')\n",
    "\n",
    "ax1.legend()\n",
    "ax2.legend();"
   ]
  },
  {
   "cell_type": "markdown",
   "metadata": {},
   "source": [
    "O que você observa?  Isso faz sentido?"
   ]
  },
  {
   "cell_type": "markdown",
   "metadata": {
    "deletable": false,
    "nbgrader": {
     "cell_type": "markdown",
     "checksum": "e416a7981eb6f87d2b0d9968f1ce7d5c",
     "grade": true,
     "grade_id": "cell-f882f904ce506664",
     "locked": false,
     "points": 2,
     "schema_version": 3,
     "solution": true,
     "task": false
    }
   },
   "source": [
    "Quanto ao gráfico do número de iterações, para $\\theta = \\pi/6, \\pi/3, \\pi/2$ os autovalores e autovetores tem parte imaginária não nula e ocorreu o esperado: se $\\alpha < 1$, o autovalor de maior módulo é complexo, o algoritmo não encontra autovetor e só para quando atinge o máximo de iterações. Se $\\alpha > 1$, $\\alpha$ é o maior autovalor e o algoritmo encontra o autovetor.\n",
    "\n",
    "Olhando no mesmo gráfico, para $\\theta = 0, \\pi$, acho que poderia ter ocorrido um certo problema, que não ocorreu aqui. Se $\\alpha < 1$, o autovalor de maior módulo em cada um desses casos vai ser, respectivamente, $1$ e $-1$, os quais têm um autoespaço de dimensão $2$ associado. Acho que o algoritmo poderia não ter encontrado nenhum vetor associado a esses autovalores e com isso ficaria oscilando sem encontrar ninguém. Mas aqui ele encontrou perfeitamente. De fato, todo vetor pertencente ao autoespaço associado aos autovalores citados é 'digno' de ser reconhecido como um autovetor pelo método da potência. Eu diria que o que ocorreu aqui é que logo que o vetor sendo iterado 'caiu' no autoespaço, o código o reconheceu como um autovetor e já retornou ele. Deu tudo certo, mas acho que poderia não ter dado. Fiz essa ressalva porque acho que não é tão intuitivo quanto o resto das coisas.\n",
    "\n",
    "Por fim, o gráfico da estimativa dos autovalores faz total sentido. As contas que mostram o porquê foram expostas na questão anterior: o algoritmo converge para a parte real do autovalor.\n",
    "\n",
    "Obs: Optei por usar os alphas variando de $0.5$ a $1.5$, mas fazendo variar de $-1.5$ a $-0.5$ ocorre o equivalente."
   ]
  }
 ],
 "metadata": {
  "kernelspec": {
   "display_name": "Python 3",
   "language": "python",
   "name": "python3"
  },
  "language_info": {
   "codemirror_mode": {
    "name": "ipython",
    "version": 3
   },
   "file_extension": ".py",
   "mimetype": "text/x-python",
   "name": "python",
   "nbconvert_exporter": "python",
   "pygments_lexer": "ipython3",
   "version": "3.8.8"
  }
 },
 "nbformat": 4,
 "nbformat_minor": 2
}
