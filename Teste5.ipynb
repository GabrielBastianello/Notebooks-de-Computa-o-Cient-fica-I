{
 "cells": [
  {
   "cell_type": "markdown",
   "id": "81e1bd5b",
   "metadata": {},
   "source": [
    "![CC-BY-SA](https://mirrors.creativecommons.org/presskit/buttons/88x31/svg/by-sa.svg)\n",
    "\n",
    "\n",
    "This notebook was created by [Bernardo Freitas Paulo da Costa](http://www.im.ufrj.br/bernardofpc),\n",
    "and is licensed under Creative Commons BY-SA."
   ]
  },
  {
   "cell_type": "markdown",
   "id": "673260ba",
   "metadata": {},
   "source": [
    "Antes de enviar este Teste, verifique que tudo está funcionando como esperado.\n",
    "Por exemplo, **rode o código inteiro, do zero**.\n",
    "Para isso, vá no menu, escolha _Kernel_, depois _Restart & Run All_.\n",
    "\n",
    "Verifique, também, que você respondeu todas as questões:\n",
    "* as questões de código têm `YOUR CODE HERE` (e você pode apagar o `raise NotImplemented` ao incluir sua resposta)\n",
    "* as questões discursivas têm \"YOUR ANSWER HERE\"."
   ]
  },
  {
   "cell_type": "markdown",
   "id": "1faaee8b",
   "metadata": {},
   "source": [
    "---"
   ]
  },
  {
   "cell_type": "markdown",
   "id": "c000e51f",
   "metadata": {},
   "source": [
    "# Integrais e Primitivas\n",
    "\n",
    "Neste teste, vamos usar os métodos de integração para calcular primitivas de funções.\n",
    "\n",
    "De forma análoga ao caso de EDOs, vamos retornar dois `np.array`s:\n",
    "- um com os pontos onde a primitiva foi calculada; e\n",
    "- outro com o valor da aproximação numérica da primitiva."
   ]
  },
  {
   "cell_type": "code",
   "execution_count": 1,
   "id": "77e5e549",
   "metadata": {
    "deletable": false,
    "editable": false,
    "nbgrader": {
     "cell_type": "code",
     "checksum": "0563e5a5f6a1c9f7f9694f144cf7e864",
     "grade": false,
     "grade_id": "cell-6f4c7a19fbdf1a6d",
     "locked": true,
     "schema_version": 3,
     "solution": false,
     "task": false
    }
   },
   "outputs": [],
   "source": [
    "import numpy as np\n",
    "import matplotlib.pyplot as plt"
   ]
  },
  {
   "cell_type": "markdown",
   "id": "1ad9a21d",
   "metadata": {},
   "source": [
    "# Questão 0: o método do retângulo\n",
    "\n",
    "Para evitar efeitos de bordo e arredondamento, vamos usar o método do retângulo criando pontos com `np.linspace`:"
   ]
  },
  {
   "cell_type": "code",
   "execution_count": 2,
   "id": "7fa62161",
   "metadata": {
    "deletable": false,
    "nbgrader": {
     "cell_type": "code",
     "checksum": "2543319c8f8af56935cea2d06a531c6f",
     "grade": false,
     "grade_id": "cell-e58721f1515c51de",
     "locked": false,
     "schema_version": 3,
     "solution": true,
     "task": false
    }
   },
   "outputs": [],
   "source": [
    "def retangulo(f, a, b, n=1000): # o que essa função faz é calcular a área aproximada abaixo de uma curva e é isso\n",
    "    if a == b:\n",
    "        return 0\n",
    "    pts, h = np.linspace(a, b, num=n, endpoint=False, retstep=True) # h = (b-a)/n\n",
    "    fs = f(pts)\n",
    "    return h*np.sum(fs) # integral =~ h*f(x_0) + h*f(x_1) + ... + h*f(x_n-1) = h*(f(x_0) + f(x_1) + ... + f(x_n-1))"
   ]
  },
  {
   "cell_type": "markdown",
   "id": "30a49c0d",
   "metadata": {},
   "source": [
    "Explique porque os pontos criados têm `endpoint=False`"
   ]
  },
  {
   "cell_type": "markdown",
   "id": "f620a462",
   "metadata": {
    "deletable": false,
    "nbgrader": {
     "cell_type": "markdown",
     "checksum": "f660e1a944326cce55bea2d13ed2d1ad",
     "grade": true,
     "grade_id": "cell-1549d22006ecb487",
     "locked": false,
     "points": 2,
     "schema_version": 3,
     "solution": true,
     "task": false
    }
   },
   "source": [
    "Por que o método do retângulo usa, por padronização (sei lá quem definiu isso, mas assim Bernardo explicou), o valor de $f(x_i)$ à esquerda de cada intervalo. Dessa forma, se incluíssemos o último ponto do intervalo na função da aproximação da integral pelo método do retângulo, teríamos a área aproximada abaixo da curva + um pedaço retangular pequeno de área que já se encontra fora do intervalo que a gente tá analisando."
   ]
  },
  {
   "cell_type": "code",
   "execution_count": 3,
   "id": "2b48b21a",
   "metadata": {
    "deletable": false,
    "editable": false,
    "nbgrader": {
     "cell_type": "code",
     "checksum": "6188a407759ec412cfefc188c5597575",
     "grade": true,
     "grade_id": "cell-a91970e14a540c4c",
     "locked": true,
     "points": 1,
     "schema_version": 3,
     "solution": false,
     "task": false
    }
   },
   "outputs": [],
   "source": [
    "ans = (np.cos(0) - np.cos(1))\n",
    "assert abs(retangulo(np.sin, 0, 1) - ans) < 1e-3"
   ]
  },
  {
   "cell_type": "code",
   "execution_count": 4,
   "id": "f088e57e",
   "metadata": {
    "deletable": false,
    "editable": false,
    "nbgrader": {
     "cell_type": "code",
     "checksum": "8b5a78d4934199461458d877bccfe059",
     "grade": true,
     "grade_id": "cell-4096352942140c09",
     "locked": true,
     "points": 1,
     "schema_version": 3,
     "solution": false,
     "task": false
    }
   },
   "outputs": [],
   "source": [
    "ans = (np.cos(0) - np.cos(1))\n",
    "assert abs(retangulo(np.sin, 0, 1) - ans) > 1e-4"
   ]
  },
  {
   "cell_type": "code",
   "execution_count": 5,
   "id": "fce4b5c6",
   "metadata": {
    "deletable": false,
    "editable": false,
    "nbgrader": {
     "cell_type": "code",
     "checksum": "899858c7dd1f01c837d8cf4965d42c69",
     "grade": true,
     "grade_id": "cell-a76174554c52c73d",
     "locked": true,
     "points": 1,
     "schema_version": 3,
     "solution": false,
     "task": false
    }
   },
   "outputs": [],
   "source": [
    "ans = (np.cos(0) - np.cos(2))\n",
    "assert 1e-5 < abs(retangulo(np.sin, 0, 2, n=10**4) - ans) < 1e-4"
   ]
  },
  {
   "cell_type": "markdown",
   "id": "6183780c",
   "metadata": {},
   "source": [
    "# Questão 1: O jeito fácil\n",
    "\n",
    "Escreva uma função `primitiva_retangulo`,\n",
    "que calcula a integral de $a$ até cada um dos pontos escolhidos,\n",
    "**incluindo** $a$,\n",
    "chamando o método do retângulo para cada um deles."
   ]
  },
  {
   "cell_type": "code",
   "execution_count": 6,
   "id": "0d262dbf",
   "metadata": {
    "deletable": false,
    "nbgrader": {
     "cell_type": "code",
     "checksum": "362cfe3959dfe952d3e852eb162ec45a",
     "grade": false,
     "grade_id": "cell-ca2f7a5c2102974b",
     "locked": false,
     "schema_version": 3,
     "solution": true,
     "task": false
    }
   },
   "outputs": [],
   "source": [
    "def primitiva_retangulo(f, a, b, h=0.01): # essa aqui calcula a área acumulada até cada x_i\n",
    "    \"\"\"Primitiva da função  f, usando um passo de tamanho  h  no intervalo  [a,b].\"\"\"\n",
    "    pts = np.arange(a, b, h)\n",
    "    Fs = np.array([retangulo(f, a, x_i, n = round((x_i-a)/h)) for x_i in pts])\n",
    "    # cada valor é a integral de 'a' até o x desse valor, chamando o método do retângulo\n",
    "    return pts, Fs\n",
    "\n",
    "# usei o 'round' porque ocorrem algumas coisas indesejadas quando se usa simplesmente\n",
    "# a função built-in 'int' do python. ex: quando 'int' recebe 28.99999999999999\n",
    "# ele arredonda pra 28, sendo que deveria arredondar pra 29. o 'round' corrige isso"
   ]
  },
  {
   "cell_type": "code",
   "execution_count": 7,
   "id": "34496873",
   "metadata": {},
   "outputs": [
    {
     "name": "stdout",
     "output_type": "stream",
     "text": [
      "0 0\n",
      "1 1\n",
      "2 2\n",
      "3 3\n",
      "4 4\n",
      "5 5\n",
      "6 6\n",
      "7 7\n",
      "8 8\n",
      "9 9\n",
      "10 10\n",
      "11 11\n",
      "12 12\n",
      "13 13\n",
      "14 14\n",
      "15 15\n",
      "16 16\n",
      "17 17\n",
      "18 18\n",
      "19 19\n",
      "20 20\n",
      "21 21\n",
      "22 22\n",
      "23 23\n",
      "24 24\n",
      "25 25\n",
      "26 26\n",
      "27 27\n",
      "28 28\n",
      "29 28\n",
      "30 30\n",
      "31 31\n",
      "32 32\n",
      "33 33\n",
      "34 34\n",
      "35 35\n",
      "36 36\n",
      "37 37\n",
      "38 38\n",
      "39 39\n",
      "40 40\n",
      "41 41\n",
      "42 42\n",
      "43 43\n",
      "44 44\n",
      "45 45\n",
      "46 46\n",
      "47 47\n",
      "48 48\n",
      "49 49\n",
      "50 50\n",
      "51 51\n",
      "52 52\n",
      "53 53\n",
      "54 54\n",
      "55 55\n",
      "56 56\n",
      "57 57\n",
      "58 57\n",
      "59 58\n",
      "60 60\n",
      "61 61\n",
      "62 62\n",
      "63 63\n",
      "64 64\n",
      "65 65\n",
      "66 66\n",
      "67 67\n",
      "68 68\n",
      "69 69\n",
      "70 70\n",
      "71 71\n",
      "72 72\n",
      "73 73\n",
      "74 74\n",
      "75 75\n",
      "76 76\n",
      "77 77\n",
      "78 78\n",
      "79 79\n",
      "80 80\n",
      "81 81\n",
      "82 82\n",
      "83 83\n",
      "84 84\n",
      "85 85\n",
      "86 86\n",
      "87 87\n",
      "88 88\n",
      "89 89\n",
      "90 90\n",
      "91 91\n",
      "92 92\n",
      "93 93\n",
      "94 94\n",
      "95 95\n",
      "96 96\n",
      "97 97\n",
      "98 98\n",
      "99 99\n"
     ]
    }
   ],
   "source": [
    "# Veja:\n",
    "pts = np.arange(0, 1, 0.01)\n",
    "for x_i in pts: # isso aqui é a mesma coisa que é feita acima ao se calcular cada 'n'\n",
    "    print(round(x_i/0.01), int(x_i/0.01))\n",
    "    # pode só olhar direto pra onde o 29, 58 e 59 deveriam estar. com esses parâmetros, o erro ocorre lá\n",
    "    # esse errinho parece bem desprezível, mas mesmo assim é erro e resolvi mexer nisso"
   ]
  },
  {
   "cell_type": "code",
   "execution_count": 8,
   "id": "385c0456",
   "metadata": {
    "deletable": false,
    "editable": false,
    "nbgrader": {
     "cell_type": "code",
     "checksum": "08241b7f66fad685ee09ab465847e71c",
     "grade": true,
     "grade_id": "cell-f782ccb631628bac",
     "locked": true,
     "points": 1,
     "schema_version": 3,
     "solution": false,
     "task": false
    }
   },
   "outputs": [],
   "source": [
    "pts, Fs = primitiva_retangulo(np.sin, 0, 1)\n",
    "assert len(Fs) == len(pts)"
   ]
  },
  {
   "cell_type": "code",
   "execution_count": 9,
   "id": "1d9d8af8",
   "metadata": {
    "deletable": false,
    "editable": false,
    "nbgrader": {
     "cell_type": "code",
     "checksum": "876eaaebe3d1dc8a63bcca167df43aca",
     "grade": true,
     "grade_id": "cell-610d0a8c1b3b1ee5",
     "locked": true,
     "points": 1,
     "schema_version": 3,
     "solution": false,
     "task": false
    }
   },
   "outputs": [],
   "source": [
    "assert np.allclose(Fs, 1 - np.cos(pts), atol=1e-2)"
   ]
  },
  {
   "cell_type": "code",
   "execution_count": 10,
   "id": "ee61ebd3",
   "metadata": {
    "deletable": false,
    "editable": false,
    "nbgrader": {
     "cell_type": "code",
     "checksum": "a258533db17d66128ed4570e3751d176",
     "grade": true,
     "grade_id": "cell-f08c296c1f556aa0",
     "locked": true,
     "points": 1,
     "schema_version": 3,
     "solution": false,
     "task": false
    }
   },
   "outputs": [],
   "source": [
    "assert not np.allclose(Fs, 1 - np.cos(pts), atol=1e-3)"
   ]
  },
  {
   "cell_type": "markdown",
   "id": "c1fd2a60",
   "metadata": {},
   "source": [
    "## Questão 2: Gráficos\n",
    "\n",
    "Faça os gráficos dos erros de cálculo das primitivas, no intervalo $[0, 1.5]$, das seguintes funções:\n",
    "- Seno\n",
    "- Exponencial\n",
    "- Cosseno\n",
    "\n",
    "para quatro valores de passo: `1e-2`, `5e-3`, `2e-3` e `1e-3`.\n",
    "\n",
    "Use 3 eixos, um para cada função, e 4 curvas em cada eixo."
   ]
  },
  {
   "cell_type": "code",
   "execution_count": 11,
   "id": "01ec1a6f",
   "metadata": {
    "deletable": false,
    "nbgrader": {
     "cell_type": "code",
     "checksum": "526da40dcd2ccbd88f859fa5bb56b20d",
     "grade": true,
     "grade_id": "cell-893a01adad1a224e",
     "locked": false,
     "points": 1,
     "schema_version": 3,
     "solution": true,
     "task": false
    }
   },
   "outputs": [
    {
     "data": {
      "image/png": "[encoded data removed]",
      "text/plain": [
       "<Figure size 1296x288 with 3 Axes>"
      ]
     },
     "metadata": {},
     "output_type": "display_data"
    }
   ],
   "source": [
    "plt.style.use('seaborn')\n",
    "\n",
    "fig, axs = plt.subplots(ncols=3, figsize=(18,4))\n",
    "hs = [1e-2, 5e-3, 2e-3, 1e-3]\n",
    "\n",
    "# ax0\n",
    "axs[0].set_title('$sen(x)$')\n",
    "for h in hs:\n",
    "# a primitiva de sen(x) é -cos(x) + k\n",
    "    xs, primitiva_numérica = primitiva_retangulo(np.sin, 0, 1.5, h)\n",
    "    primitiva_original = - np.cos(xs) + 1 # área abaixo da curva de sen(x), afinal é isso que a função faz\n",
    "    erro_sen = abs(primitiva_original - primitiva_numérica)\n",
    "    axs[0].plot(xs, erro_sen, label=f'h = {h:.1e}')\n",
    "    axs[0].set_xlabel('x')\n",
    "    axs[0].set_ylabel('Erro em cada x')\n",
    "    axs[0].legend()\n",
    "\n",
    "# ax1\n",
    "axs[1].set_title('$exp(x)$')\n",
    "for h in hs:\n",
    "# a primitiva de exp(x) é exp(x) + k\n",
    "    xs, primitiva_numérica = primitiva_retangulo(np.exp, 0, 1.5, h)\n",
    "    primitiva_original = np.exp(xs) - 1 # área abaixo da curva de exp(x)\n",
    "    erro_exp = abs(primitiva_original - primitiva_numérica)\n",
    "    axs[1].plot(xs, erro_exp, label=f'h = {h:.1e}')\n",
    "    axs[1].set_xlabel('x')\n",
    "    axs[1].set_ylabel('Erro em cada x')\n",
    "    axs[1].legend()\n",
    "\n",
    "# ax2\n",
    "axs[2].set_title('$cos(x)$')\n",
    "for h in hs:\n",
    "# a primitiva de cos(x) é sen(x) + k\n",
    "    xs, primitiva_numérica = primitiva_retangulo(np.cos, 0, 1.5, h)\n",
    "    primitiva_original = np.sin(xs) # área abaixo da curva de cos(x)\n",
    "    erro_cos = abs(primitiva_original - primitiva_numérica)\n",
    "    axs[2].plot(xs, erro_cos, label=f'h = {h:.1e}')\n",
    "    axs[2].set_xlabel('x')\n",
    "    axs[2].set_ylabel('Erro em cada x')\n",
    "    axs[2].legend()\n",
    "\n",
    "plt.show()"
   ]
  },
  {
   "cell_type": "code",
   "execution_count": 12,
   "id": "c3790d3b",
   "metadata": {
    "deletable": false,
    "editable": false,
    "nbgrader": {
     "cell_type": "code",
     "checksum": "5d9458c230ead2b8ae2d59b15fde319e",
     "grade": true,
     "grade_id": "cell-63283f9cb6e27e97",
     "locked": true,
     "points": 2,
     "schema_version": 3,
     "solution": false,
     "task": false
    }
   },
   "outputs": [],
   "source": [
    "for ax in axs:\n",
    "    assert len(ax.lines) == 4\n",
    "    assert len(ax.get_legend().texts) == 4\n",
    "    assert len(ax.get_title()) > 0"
   ]
  },
  {
   "cell_type": "code",
   "execution_count": 13,
   "id": "466b309b",
   "metadata": {
    "deletable": false,
    "editable": false,
    "nbgrader": {
     "cell_type": "code",
     "checksum": "800b3a08ab956d239d24c1740fc7cac9",
     "grade": true,
     "grade_id": "cell-b8348c3801bc1956",
     "locked": true,
     "points": 1,
     "schema_version": 3,
     "solution": false,
     "task": false
    }
   },
   "outputs": [],
   "source": [
    "for ax in axs:\n",
    "    for l in ax.lines:\n",
    "        assert max(np.abs(l.get_ydata())) < 2e-2"
   ]
  },
  {
   "cell_type": "markdown",
   "id": "c03f5322",
   "metadata": {},
   "source": [
    "Qual o erro, na extremidade final do intervalo, para cada um dos métodos e valores de $h$?\n",
    "\n",
    "Imprima uma tabela, com 3 colunas e 4 linhas (fora as \"de título\"), usando `print` formatado."
   ]
  },
  {
   "cell_type": "code",
   "execution_count": 14,
   "id": "126f7731",
   "metadata": {
    "deletable": false,
    "nbgrader": {
     "cell_type": "code",
     "checksum": "93fd9df76175459ea884196ff17c7c2d",
     "grade": true,
     "grade_id": "cell-85eff91dd1f86421",
     "locked": false,
     "points": 2,
     "schema_version": 3,
     "solution": true,
     "task": false
    },
    "scrolled": true
   },
   "outputs": [
    {
     "name": "stdout",
     "output_type": "stream",
     "text": [
      "--------------------------------------------------------------------------------\n",
      "                 Erro no último ponto para cada h e cada função                 \n",
      "--------------------------------------------------------------------------------\n",
      "|hs    |        sen(x)         |        exp(x)         |        cos(x)         |\n",
      "--------------------------------------------------------------------------------\n",
      "|0.01  |0.004991349535913403   |0.01715683518009703    |0.0045881515959486086  |\n",
      "|0.005 |0.002494747659798402   |0.008641134433971409   |0.0023086132183820496  |\n",
      "|0.002 |0.0009976606066433025  |0.003471577071463283   |0.0009269355006354951  |\n",
      "|0.001 |0.0004987892307796171  |0.0017383150432195293  |0.00046404955079315524 |\n"
     ]
    }
   ],
   "source": [
    "# criando um dicionário com listas nas chaves pra acessar os valores, fazer umas contas e printar depois com umas\n",
    "# configurações\n",
    "hs_e_erros = {1e-2:[], 5e-3:[], 2e-3:[], 1e-3:[]}\n",
    "for h in hs_e_erros:\n",
    "#\n",
    "    xs, primitiva_numérica = primitiva_retangulo(np.sin, 0, 1.5, h)\n",
    "    primitiva_original = - np.cos(xs) + 1\n",
    "    hs_e_erros[h].append(abs((primitiva_original - primitiva_numérica)[-1]))\n",
    "#\n",
    "    xs, primitiva_numérica = primitiva_retangulo(np.exp, 0, 1.5, h)\n",
    "    primitiva_original = np.exp(xs) -1\n",
    "    hs_e_erros[h].append(abs((primitiva_original - primitiva_numérica)[-1]))\n",
    "#\n",
    "    xs, primitiva_numérica = primitiva_retangulo(np.cos, 0, 1.5, h)\n",
    "    primitiva_original = np.sin(xs)\n",
    "    hs_e_erros[h].append(abs((primitiva_original - primitiva_numérica)[-1]))\n",
    "\n",
    "# maior_comprimento_hs\n",
    "maior_len_str_h = 0\n",
    "# maior_comprimento_erro\n",
    "maior_len_str_erro = 0\n",
    "# loop pra calcular os dois valores acima\n",
    "for h in hs_e_erros:\n",
    "    len_str_h = len(str(h))\n",
    "    if len_str_h>maior_len_str_h:\n",
    "        maior_len_str_h = len_str_h\n",
    "    for erro in hs_e_erros[h]:\n",
    "        len_str_erro = len(str(erro))\n",
    "        if len_str_erro>maior_len_str_erro:\n",
    "            maior_len_str_erro = len_str_erro\n",
    "\n",
    "# parte do print\n",
    "l = ['Erro no último ponto para cada h e cada função', 'sen(x)', 'exp(x)', 'cos(x)']\n",
    "# criando uma lista com umas strings pra poder acessar depois e usar nas format strings, talvez isso seja uma gambiarra\n",
    "\n",
    "k = 4*len(' |') # esse k parece meio perdido mas a fstring não deixou eu inserir ele dentro dela\n",
    "# acabou sendo mais prático também, foi usado mais de uma vez\n",
    "print('-'*(3*maior_len_str_erro+maior_len_str_h+k+1))\n",
    "print(f'{l[0]:^{3*maior_len_str_erro+maior_len_str_h+k+1}}')\n",
    "print('-'*(3*maior_len_str_erro+maior_len_str_h+k+1))\n",
    "print('|hs', end='    |')\n",
    "\n",
    "for i in range(1, len(l)):\n",
    "    print(f'{l[i]:^{maior_len_str_erro}}', end=' |')\n",
    "print() # pra pular pra próxima linha\n",
    "print('-'*(3*maior_len_str_erro+maior_len_str_h+k+1))\n",
    "\n",
    "for h in hs_e_erros:\n",
    "    print(f'|{h:<{maior_len_str_h}}', end=' |')\n",
    "    for erro in hs_e_erros[h]:\n",
    "        print(f'{erro:<{maior_len_str_erro}}', end=' |')\n",
    "    print()\n",
    "\n",
    "# acabou ficando gigante, acho que tem um jeito mais fácil"
   ]
  },
  {
   "cell_type": "markdown",
   "id": "80f13330",
   "metadata": {},
   "source": [
    "Como os erros se comportam ao diminuir o passo?  Isso é esperado?"
   ]
  },
  {
   "cell_type": "markdown",
   "id": "223c55f5",
   "metadata": {
    "deletable": false,
    "nbgrader": {
     "cell_type": "markdown",
     "checksum": "c6ce1eaa270db67ddc553aaba54dd84a",
     "grade": true,
     "grade_id": "cell-2de92a806cae4abd",
     "locked": false,
     "points": 2,
     "schema_version": 3,
     "solution": true,
     "task": false
    }
   },
   "source": [
    "Os erros variam numa proporção **muito** próxima da que os `hs` variam, para todas as funções. Eu esperaria que isso ocorresse. Analiticamente, reduzir o tamanho de cada `h` é refinar melhor o intervalo e aproximar melhor a integral e reduzir o erro da aproximação.\n",
    "\n",
    "Obs: se a pergunta do \"isso é esperado?\" for em relação à razão numérica com a qual os erros variam em si, e não em relação apenas ao fato de diminuir ou aumentar, eu mostro as contas que explicam isso na questão após a que está abaixo. Resumindo, o erro é diretamente proporcional ao tamanho de h, se for desconsiderado um erro de tamanho $o(h)$ que tá embutido nos cálculos dessas integrais."
   ]
  },
  {
   "cell_type": "markdown",
   "id": "7e980c70",
   "metadata": {},
   "source": [
    "Como os erros se comportam ao longo do eixo dos $x$, ou seja, ao calcular primitivas \"cada vez mais longe\"?  Como você explica este fenômeno?"
   ]
  },
  {
   "cell_type": "markdown",
   "id": "0c454d9e",
   "metadata": {
    "deletable": false,
    "nbgrader": {
     "cell_type": "markdown",
     "checksum": "75a2406633ac810f73b6c640d29477d7",
     "grade": true,
     "grade_id": "cell-b016645ddc678451",
     "locked": false,
     "points": 2,
     "schema_version": 3,
     "solution": true,
     "task": false
    }
   },
   "source": [
    "Os erros são maiores à medida que se calcula primitivas cada vez mais longe. Isso se deve ao fato de que os erros se acumulam. Isto é: há um certo erro quando se calcula a integral de $a_0$ até $a_1$. Quando se calcula a integral de $a_0$ até $a_2$, há o erro devido ao cálculo de $a_0$ até $a_1$ mais o erro devido ao cálculo de $a_1$ até $a_2$. E assim os erros vão se acumulando."
   ]
  },
  {
   "cell_type": "markdown",
   "id": "e1d98488",
   "metadata": {},
   "source": [
    "Como os erros se comportam para as diferentes funções?  Você esperava isso?"
   ]
  },
  {
   "cell_type": "markdown",
   "id": "3d4797a1",
   "metadata": {
    "deletable": false,
    "nbgrader": {
     "cell_type": "markdown",
     "checksum": "d81ce075eeae53d7e24bffd542d18b11",
     "grade": true,
     "grade_id": "cell-0842df6fbab5c7a4",
     "locked": false,
     "points": 2,
     "schema_version": 3,
     "solution": true,
     "task": false
    }
   },
   "source": [
    "Os erros nas funções seno e cosseno são bem próximos e ambos são menores do que os erros na função exponencial. Sim, eu esperava. Os erros de integração usando o método do retângulo podem ser estimados por: $h \\frac{f(b)-f(a)}{2}$ (mais um errinho da ordem de h: $o(h)$), com sinal positivo ou negativo. Aqui, como eu to usando o erro em módulo, vou padronizar pra mostrar esses valores só com sinal positivo.\n",
    "\n",
    "Como a diferença `np.exp(1.5)-np.exp(0)` é maior, em módulo, que as diferenças `np.sin(1.5)-np.sin(0)` e `np.cos(1.5)-np.cos(0)`, os erros na função `exp` serão consequentemente maiores, com base no que eu falei acima.\n",
    "\n",
    "Tudo pode ser visto nas células abaixo, onde eu resolvi calcular essas estimativas usando a fórmula que eu mostrei acima:"
   ]
  },
  {
   "cell_type": "code",
   "execution_count": 15,
   "id": "3262b8bd",
   "metadata": {},
   "outputs": [
    {
     "name": "stdout",
     "output_type": "stream",
     "text": [
      "seno:  0.004987474933020273, exponencial:  0.017408445351690324, cosseno:  0.004646313991661486."
     ]
    }
   ],
   "source": [
    "print('seno: ', 0.01*(np.sin(1.5)-np.sin(0))/2, end=', ')\n",
    "print('exponencial: ', 0.01*(np.exp(1.5)-np.exp(0))/2, end=', ')\n",
    "print('cosseno: ', abs(0.01*(np.cos(1.5)-np.cos(0))/2), end='.')"
   ]
  },
  {
   "cell_type": "code",
   "execution_count": 16,
   "id": "1f710dc9",
   "metadata": {},
   "outputs": [
    {
     "name": "stdout",
     "output_type": "stream",
     "text": [
      "seno:  0.0024937374665101363, exponencial:  0.008704222675845162, cosseno:  0.002323156995830743."
     ]
    }
   ],
   "source": [
    "print('seno: ', 0.005*(np.sin(1.5)-np.sin(0))/2, end=', ')\n",
    "print('exponencial: ', 0.005*(np.exp(1.5)-np.exp(0))/2, end=', ')\n",
    "print('cosseno: ', abs(0.005*(np.cos(1.5)-np.cos(0))/2), end='.')"
   ]
  },
  {
   "cell_type": "code",
   "execution_count": 17,
   "id": "ae070860",
   "metadata": {},
   "outputs": [
    {
     "name": "stdout",
     "output_type": "stream",
     "text": [
      "seno:  0.0009974949866040546, exponencial:  0.0034816890703380644, cosseno:  0.0009292627983322971."
     ]
    }
   ],
   "source": [
    "print('seno: ', 0.002*(np.sin(1.5)-np.sin(0))/2, end=', ')\n",
    "print('exponencial: ', 0.002*(np.exp(1.5)-np.exp(0))/2, end=', ')\n",
    "print('cosseno: ', abs(0.002*(np.cos(1.5)-np.cos(0))/2), end='.')"
   ]
  },
  {
   "cell_type": "code",
   "execution_count": 18,
   "id": "429afb6d",
   "metadata": {},
   "outputs": [
    {
     "name": "stdout",
     "output_type": "stream",
     "text": [
      "seno:  0.0004987474933020273, exponencial:  0.0017408445351690322, cosseno:  0.00046463139916614856."
     ]
    }
   ],
   "source": [
    "print('seno: ', 0.001*(np.sin(1.5)-np.sin(0))/2, end=', ')\n",
    "print('exponencial: ', 0.001*(np.exp(1.5)-np.exp(0))/2, end=', ')\n",
    "print('cosseno: ', abs(0.001*(np.cos(1.5)-np.cos(0))/2), end='.')"
   ]
  },
  {
   "cell_type": "markdown",
   "id": "2fb644da",
   "metadata": {},
   "source": [
    "## Questão 3: O jeito mais rápido\n",
    "\n",
    "Na questão anterior, ao calcular a primitiva de $[a, a+2h]$, era necessário calcular $f(a)$ e $f(a+h)$.\n",
    "Ora, $f(a)$ já tinha sido calculada para a primitiva em $[a, a+h]$ (era o único termo!),\n",
    "então podemos evitar estas contas repetidas.\n",
    "\n",
    "Vamos fazer uma nova primitiva, `primitiva_rapida`, que calcula apenas uma vez `f(pts)`,\n",
    "e calcula as somas parciais usando [`np.cumsum`](https://numpy.org/doc/stable/reference/generated/numpy.cumsum.html)."
   ]
  },
  {
   "cell_type": "markdown",
   "id": "ca89c3d5",
   "metadata": {},
   "source": [
    "Explique porque é ruim (neste caso!) que `np.cumsum` **não** retorne a soma vazia."
   ]
  },
  {
   "cell_type": "code",
   "execution_count": 19,
   "id": "8da3a15f",
   "metadata": {
    "deletable": false,
    "editable": false,
    "nbgrader": {
     "cell_type": "code",
     "checksum": "930df8bda033bbd16173cdc5bc716ff5",
     "grade": false,
     "grade_id": "cell-6753e81af4219770",
     "locked": true,
     "schema_version": 3,
     "solution": false,
     "task": false
    }
   },
   "outputs": [
    {
     "data": {
      "text/plain": [
       "array([1, 3], dtype=int32)"
      ]
     },
     "execution_count": 19,
     "metadata": {},
     "output_type": "execute_result"
    }
   ],
   "source": [
    "np.cumsum([1,2])"
   ]
  },
  {
   "cell_type": "markdown",
   "id": "69e045e0",
   "metadata": {
    "deletable": false,
    "nbgrader": {
     "cell_type": "markdown",
     "checksum": "28bb8fb8a4c71caac89bdf82d578d34c",
     "grade": true,
     "grade_id": "cell-c5a49030557d7f4c",
     "locked": false,
     "points": 1,
     "schema_version": 3,
     "solution": true,
     "task": false
    }
   },
   "source": [
    "Pois a soma acumulada do primeiro elemento até o primeiro elemento na integral (de $f(a)$ até $f(a)$) equivale à soma de elemento nenhum, $0$. Assim, seria legal se `np.cumsum` retornasse esse valor."
   ]
  },
  {
   "cell_type": "markdown",
   "id": "ce7b1397",
   "metadata": {},
   "source": [
    "Para incluir a soma vazia (que vale zero!), use `np.hstack`."
   ]
  },
  {
   "cell_type": "code",
   "execution_count": 20,
   "id": "54825a79",
   "metadata": {},
   "outputs": [
    {
     "data": {
      "text/plain": [
       "array([0, 1, 3])"
      ]
     },
     "execution_count": 20,
     "metadata": {},
     "output_type": "execute_result"
    }
   ],
   "source": [
    "np.hstack([[0], [1, 3]])"
   ]
  },
  {
   "cell_type": "code",
   "execution_count": 21,
   "id": "c74b49d5",
   "metadata": {
    "deletable": false,
    "nbgrader": {
     "cell_type": "code",
     "checksum": "64f0ee8b5f8bcb2dd4fa98036ff4557f",
     "grade": false,
     "grade_id": "cell-66631c20ed24bf35",
     "locked": false,
     "schema_version": 3,
     "solution": true,
     "task": false
    }
   },
   "outputs": [],
   "source": [
    "def primitiva_rapida(f, a, b, h=0.01):\n",
    "    \"\"\"Primitiva da função  f, usando um passo de tamanho  h  no intervalo  [a,b].\"\"\"\n",
    "    pts = np.arange(a, b, h)\n",
    "    fs = f(pts)\n",
    "    primitiva = h*np.cumsum(fs)\n",
    "    primitiva = np.hstack(([0], primitiva)) # tem que adicionar a soma vazia\n",
    "    primitiva = np.delete(primitiva, [-1]) # e tem que deletar o último elemento\n",
    "    return pts, primitiva"
   ]
  },
  {
   "cell_type": "code",
   "execution_count": 22,
   "id": "85359ab3",
   "metadata": {
    "deletable": false,
    "editable": false,
    "nbgrader": {
     "cell_type": "code",
     "checksum": "01c82b6b18840bafcffae8e286d8611d",
     "grade": true,
     "grade_id": "cell-50f5e7584dce3ef8",
     "locked": true,
     "points": 1,
     "schema_version": 3,
     "solution": false,
     "task": false
    },
    "scrolled": true
   },
   "outputs": [],
   "source": [
    "pts, Fs = primitiva_rapida(np.sin, 0, 1)\n",
    "assert len(pts) == len(Fs)"
   ]
  },
  {
   "cell_type": "code",
   "execution_count": 23,
   "id": "916b04c3",
   "metadata": {
    "deletable": false,
    "editable": false,
    "nbgrader": {
     "cell_type": "code",
     "checksum": "5b9630f57e60e23aeb89b0af27475083",
     "grade": true,
     "grade_id": "cell-3df3bdeb658b648d",
     "locked": true,
     "points": 1,
     "schema_version": 3,
     "solution": false,
     "task": false
    }
   },
   "outputs": [],
   "source": [
    "assert np.allclose(Fs, 1 - np.cos(pts), atol=1e-2)"
   ]
  },
  {
   "cell_type": "code",
   "execution_count": 24,
   "id": "f8b9be89",
   "metadata": {
    "deletable": false,
    "editable": false,
    "nbgrader": {
     "cell_type": "code",
     "checksum": "021112ccf30fa755f4528737dcd1950d",
     "grade": true,
     "grade_id": "cell-4d749fbf56409d26",
     "locked": true,
     "points": 1,
     "schema_version": 3,
     "solution": false,
     "task": false
    }
   },
   "outputs": [],
   "source": [
    "assert not np.allclose(Fs, 1 - np.cos(pts), atol=1e-3)"
   ]
  },
  {
   "cell_type": "markdown",
   "id": "3792438e",
   "metadata": {},
   "source": [
    "Ambas as funções devem ser (a menos de erro de truncamento / arredondamento) iguais:"
   ]
  },
  {
   "cell_type": "code",
   "execution_count": 25,
   "id": "bafdc859",
   "metadata": {
    "deletable": false,
    "editable": false,
    "nbgrader": {
     "cell_type": "code",
     "checksum": "5739a5cbd441a04a760f2ca0443decd9",
     "grade": true,
     "grade_id": "cell-8e62b317e12f9bd6",
     "locked": true,
     "points": 2,
     "schema_version": 3,
     "solution": false,
     "task": false
    },
    "scrolled": true
   },
   "outputs": [],
   "source": [
    "_, Fs_original = primitiva_retangulo(np.sin, 0, 1)\n",
    "assert np.allclose(Fs, Fs_original, atol=1e-15, rtol=1e-15)"
   ]
  },
  {
   "cell_type": "markdown",
   "id": "7021f683",
   "metadata": {},
   "source": [
    "## Questão 4: E terá valido a pena?\n",
    "\n",
    "Observe as duas caixas abaixo"
   ]
  },
  {
   "cell_type": "code",
   "execution_count": 26,
   "id": "65d5d7bb",
   "metadata": {
    "deletable": false,
    "editable": false,
    "nbgrader": {
     "cell_type": "code",
     "checksum": "9971b352deee3d9ece4fa40da669fca1",
     "grade": false,
     "grade_id": "cell-105e2d428bae5984",
     "locked": true,
     "schema_version": 3,
     "solution": false,
     "task": false
    },
    "scrolled": false
   },
   "outputs": [
    {
     "name": "stdout",
     "output_type": "stream",
     "text": [
      "Wall time: 817 ms\n",
      "Wall time: 52.9 ms\n"
     ]
    }
   ],
   "source": [
    "%time primitiva_retangulo(np.sin, 0, 1, h=1e-4)\n",
    "%time primitiva_retangulo(np.sin, 0, 1, h=1e-3)\n",
    "None"
   ]
  },
  {
   "cell_type": "code",
   "execution_count": 27,
   "id": "2d883010",
   "metadata": {
    "deletable": false,
    "editable": false,
    "nbgrader": {
     "cell_type": "code",
     "checksum": "b904f651e0e6e04dfb340a7e4bfd2ab4",
     "grade": false,
     "grade_id": "cell-ee7ec148626d9633",
     "locked": true,
     "schema_version": 3,
     "solution": false,
     "task": false
    },
    "scrolled": true
   },
   "outputs": [
    {
     "name": "stdout",
     "output_type": "stream",
     "text": [
      "Wall time: 998 µs\n",
      "Wall time: 0 ns\n"
     ]
    }
   ],
   "source": [
    "%time primitiva_rapida(np.sin, 0, 1, h=1e-4)\n",
    "%time primitiva_rapida(np.sin, 0, 1, h=1e-3)\n",
    "None"
   ]
  },
  {
   "cell_type": "markdown",
   "id": "d312430c",
   "metadata": {},
   "source": [
    "Quão mais rápido é o método usando `np.cumsum`?"
   ]
  },
  {
   "cell_type": "markdown",
   "id": "97642259",
   "metadata": {
    "deletable": false,
    "nbgrader": {
     "cell_type": "markdown",
     "checksum": "76bd6f5186c55fbb6a6a4c6c4c2d11f1",
     "grade": true,
     "grade_id": "cell-ffce7e6028d2340e",
     "locked": false,
     "points": 2,
     "schema_version": 3,
     "solution": true,
     "task": false
    }
   },
   "source": [
    "Na primeira comparação, o primeiro é entre $10^{3}$ e $10^{2}$ vezes mais rápido. Na segunda, ele é entre $10^{2}$ e $10^{1}$ vezes mais rápido. Esses números oscilam um pouco, o que dificulta falar o quão mais rápida a primitiva rápida é em um único número. Basta rodar as células mais de uma vez e dá pra ver que o número não é constante. Acho que isso depende das outras coisas que rodam no computador enquanto se faz os testes. (como esses valores oscilam, botei a ordem de grandeza da razão entre as velocidades)"
   ]
  },
  {
   "cell_type": "markdown",
   "id": "1da45532",
   "metadata": {},
   "source": [
    "Agora, observe com mais detalhe:"
   ]
  },
  {
   "cell_type": "code",
   "execution_count": 28,
   "id": "0cf3def9",
   "metadata": {},
   "outputs": [
    {
     "name": "stdout",
     "output_type": "stream",
     "text": [
      "871 ms ± 42.9 ms per loop (mean ± std. dev. of 7 runs, 1 loop each)\n",
      "53.4 ms ± 3.9 ms per loop (mean ± std. dev. of 7 runs, 10 loops each)\n"
     ]
    }
   ],
   "source": [
    "%timeit primitiva_retangulo(np.sin, 0, 1, h=1e-4)\n",
    "%timeit primitiva_retangulo(np.sin, 0, 1, h=1e-3)\n",
    "None"
   ]
  },
  {
   "cell_type": "code",
   "execution_count": 29,
   "id": "67d695ca",
   "metadata": {},
   "outputs": [
    {
     "name": "stdout",
     "output_type": "stream",
     "text": [
      "163 µs ± 18.1 µs per loop (mean ± std. dev. of 7 runs, 10000 loops each)\n",
      "57.8 µs ± 4.05 µs per loop (mean ± std. dev. of 7 runs, 10000 loops each)\n"
     ]
    }
   ],
   "source": [
    "%timeit primitiva_rapida(np.sin, 0, 1, h=1e-4)\n",
    "%timeit primitiva_rapida(np.sin, 0, 1, h=1e-3)\n",
    "None"
   ]
  },
  {
   "cell_type": "markdown",
   "id": "707582c4",
   "metadata": {},
   "source": [
    "Quantas vezes mais lento é o método \"simples\" com passo 10 vezes menor?\n",
    "\n",
    "E quantas vezes mais lento é o método `np.cumsum` com passo 10 vezes menor?\n",
    "\n",
    "Isso ajuda a explicar as diferenças acima?"
   ]
  },
  {
   "cell_type": "markdown",
   "id": "f63ed332",
   "metadata": {
    "deletable": false,
    "nbgrader": {
     "cell_type": "markdown",
     "checksum": "5e7b9b096a5088daa2f629c7df7b7296",
     "grade": true,
     "grade_id": "cell-af8d633f85cf0dbe",
     "locked": false,
     "points": 2,
     "schema_version": 3,
     "solution": true,
     "task": false
    }
   },
   "source": [
    "O método simples com passo 10 vezes menor é aproximadamente 15 vezes mais lento do que o mesmo método usando passo 10 vezes maior. E o método rápido com passo 10 vezes menor é aproximadamente 3 vezes mais lento que o mesmo método com passo 10 vezes maior.\n",
    "\n",
    "Eu penso que essa diferença se deva ao fato do número de operações que cada função executa ao receber cada valor de 'h', fixados os outros parâmetros. Não consegui deduzir uma fórmula que entrega o número de operações pra cada h, sei apenas da relação óbvia que é: h menor implica em mais intervalos, o que tem como consequência mais contas.\n",
    "\n",
    "Pelas contas que eu havia feito, o número de operações que a primitiva 'lenta' que eu escrevi faz é de aproximadamente $\\frac{(n+1)(n+2)}{2}$, sendo n o número de intervalinhos em que o intervalo de integração foi dividido. Com isso, supondo que as operações sempre demoram o mesmo tempo pra serem feitas, usar um $h$ 10 vezes menor equivaleria a fazer 100 vezes mais operações o que resultaria em demorar 100 vezes mais, mas não é bem isso que se observa nos testes acima.\n",
    "\n",
    "Já a primitiva rápida que eu escrevi faz aproximadamente $n+1$ operações, sendo n o número de intervalinhos em que o intervalo de integração foi dividido. E aí, usar um $h$ 10 vezes menor equivaleria a fazer 10 vezes mais operações e isso resultaria em demorar 10 vezes mais. Coloquei isso só pra deixar o que eu havia pensado, mas acho que não é bem essa a resposta certa."
   ]
  }
 ],
 "metadata": {
  "kernelspec": {
   "display_name": "Python 3",
   "language": "python",
   "name": "python3"
  },
  "language_info": {
   "codemirror_mode": {
    "name": "ipython",
    "version": 3
   },
   "file_extension": ".py",
   "mimetype": "text/x-python",
   "name": "python",
   "nbconvert_exporter": "python",
   "pygments_lexer": "ipython3",
   "version": "3.8.8"
  }
 },
 "nbformat": 4,
 "nbformat_minor": 5
}
